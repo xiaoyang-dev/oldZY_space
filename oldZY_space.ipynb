{
 "cells": [
  {
   "cell_type": "code",
   "execution_count": null,
   "id": "6182bae8",
   "metadata": {},
   "outputs": [],
   "source": [
    "import streamlit as st\n",
    "import time"
   ]
  },
  {
   "cell_type": "code",
   "execution_count": null,
   "id": "e6754bc1",
   "metadata": {},
   "outputs": [],
   "source": [
    "#自定义CSS样式\n",
    "st.markdown(\n",
    "    \"\"\"\n",
    "    <style>\n",
    "    .css-1l02zqu{\n",
    "    margin:auto;\n",
    "    width:50%\n",
    "    }\n",
    "    <style>\n",
    "    \"\"\",unsafe_allow_html=True\n",
    ")"
   ]
  },
  {
   "cell_type": "code",
   "execution_count": null,
   "id": "2f34dd18",
   "metadata": {},
   "outputs": [],
   "source": [
    "def show_title():\n",
    "    st.title(\"老张老杨的困间\")"
   ]
  },
  {
   "cell_type": "code",
   "execution_count": null,
   "id": "c829f629",
   "metadata": {},
   "outputs": [],
   "source": [
    "\n",
    "placeholder = st.empty()\n",
    "password=placeholder.text_input(\"请输入密码\",type=\"password\")\n",
    "if password!=\"\":\n",
    "    if password==\"258069\":\n",
    "        placeholder.success(\"密码正确！\")\n",
    "        for seconds in range(3):\n",
    "            placeholder.write(f\"⏳ {3-seconds} s后将进入困间\")\n",
    "            time.sleep(1)\n",
    "        placeholder.empty()\n",
    "        show_title()\n",
    "    else:\n",
    "        placeholder.error(\"密码错误！\")\n"
   ]
  },
  {
   "cell_type": "code",
   "execution_count": null,
   "id": "e0861fe6",
   "metadata": {},
   "outputs": [],
   "source": []
  }
 ],
 "metadata": {
  "kernelspec": {
   "display_name": "Python [conda env:-streamlit]",
   "language": "python",
   "name": "conda-env--streamlit-py"
  },
  "language_info": {
   "codemirror_mode": {
    "name": "ipython",
    "version": 3
   },
   "file_extension": ".py",
   "mimetype": "text/x-python",
   "name": "python",
   "nbconvert_exporter": "python",
   "pygments_lexer": "ipython3",
   "version": "3.12.3"
  }
 },
 "nbformat": 4,
 "nbformat_minor": 5
}
